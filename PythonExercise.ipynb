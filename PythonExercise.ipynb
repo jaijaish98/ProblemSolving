{
 "cells": [
  {
   "cell_type": "code",
   "execution_count": 1,
   "id": "7bed820b",
   "metadata": {},
   "outputs": [
    {
     "data": {
      "text/plain": [
       "False"
      ]
     },
     "execution_count": 1,
     "metadata": {},
     "output_type": "execute_result"
    }
   ],
   "source": [
    "\"\"\"\n",
    "20. Valid Parentheses\n",
    "\n",
    "Given a string s containing just the characters '(', ')', '{', '}', '[' and ']', determine if the input string is valid.\n",
    "\n",
    "An input string is valid if:\n",
    "\n",
    "Open brackets must be closed by the same type of brackets.\n",
    "Open brackets must be closed in the correct order.\n",
    "Every close bracket has a corresponding open bracket of the same type.\n",
    " \n",
    "\n",
    "Example 1:\n",
    "\n",
    "Input: s = \"()\"\n",
    "Output: true\n",
    "Example 2:\n",
    "\n",
    "Input: s = \"()[]{}\"\n",
    "Output: true\n",
    "Example 3:\n",
    "\n",
    "Input: s = \"(]\"\n",
    "Output: false\n",
    " \n",
    "\n",
    "Constraints:\n",
    "\n",
    "1 <= s.length <= 104\n",
    "s consists of parentheses only '()[]{}'.\n",
    "\"\"\"\n",
    "\n",
    "def is_valid_parentheses(s):\n",
    "    if len(s) <= 1:\n",
    "        return False\n",
    "    stack = []\n",
    "    for ch in s:\n",
    "        if ch == '(' or ch == '{' or ch == '[':\n",
    "            stack.append(ch)\n",
    "        else:\n",
    "            if len(stack) == 0:\n",
    "                return False\n",
    "            top = stack.pop(-1)\n",
    "            if (ch == ']' and top == '[') or (ch == ')' and top == '(') or (ch == '}' and top == '{'):\n",
    "                continue\n",
    "            else:\n",
    "                return False\n",
    "    return True if len(stack) == 0 else False\n",
    "\n",
    "is_valid = is_valid_parentheses(\"{{}}}\")\n",
    "is_valid"
   ]
  },
  {
   "cell_type": "code",
   "execution_count": 28,
   "id": "1de16938",
   "metadata": {},
   "outputs": [
    {
     "name": "stdout",
     "output_type": "stream",
     "text": [
      "2\n",
      "1\n",
      "4\n"
     ]
    }
   ],
   "source": [
    "\"\"\"\n",
    "\n",
    "35. Search Insert Position\n",
    "\n",
    "Given a sorted array of distinct integers and a target value, return the index if the target is found. If not, return the index where it would be if it were inserted in order.\n",
    "\n",
    "You must write an algorithm with O(log n) runtime complexity.\n",
    "\n",
    " \n",
    "\n",
    "Example 1:\n",
    "\n",
    "Input: nums = [1,3,5,6], target = 5\n",
    "Output: 2\n",
    "Example 2:\n",
    "\n",
    "Input: nums = [1,3,5,6], target = 2\n",
    "Output: 1\n",
    "Example 3:\n",
    "\n",
    "Input: nums = [1,3,5,6], target = 7\n",
    "Output: 4\n",
    "\n",
    "\"\"\"\n",
    "\n",
    "def find_insert_position(arr, target):\n",
    "    if len(arr)==0 or arr is None:\n",
    "        return 0\n",
    "    previous_index = -1\n",
    "    for i in range(len(arr)):\n",
    "        if arr[i] == target:\n",
    "            return i\n",
    "        else:\n",
    "            if arr[i] < target:\n",
    "                previous_index = i\n",
    "            else:\n",
    "                return previous_index+1\n",
    "    return previous_index+1\n",
    "\n",
    "print(find_insert_position([1,3,5,6], 5))\n",
    "print(find_insert_position([1,3,5,6], 2))\n",
    "print(find_insert_position([1,3,5,6], 7))"
   ]
  },
  {
   "cell_type": "code",
   "execution_count": 2,
   "id": "d39d64f7",
   "metadata": {},
   "outputs": [
    {
     "name": "stdout",
     "output_type": "stream",
     "text": [
      "True\n"
     ]
    }
   ],
   "source": [
    "\"\"\"\n",
    "141. Linked List Cycle\n",
    "\n",
    "Given head, the head of a linked list, determine if the linked list has a cycle in it.\n",
    "\n",
    "There is a cycle in a linked list if there is some node in the list that can be reached again by continuously following the next pointer. Internally, pos is used to denote the index of the node that tail's next pointer is connected to. Note that pos is not passed as a parameter.\n",
    "\n",
    "Return true if there is a cycle in the linked list. Otherwise, return false.\n",
    "\n",
    " \n",
    "\n",
    "Example 1:\n",
    "\n",
    "\n",
    "Input: head = [3,2,0,-4], pos = 1\n",
    "Output: true\n",
    "Explanation: There is a cycle in the linked list, where the tail connects to the 1st node (0-indexed).\n",
    "Example 2:\n",
    "\n",
    "\n",
    "Input: head = [1,2], pos = 0\n",
    "Output: true\n",
    "Explanation: There is a cycle in the linked list, where the tail connects to the 0th node.\n",
    "Example 3:\n",
    "\n",
    "\n",
    "Input: head = [1], pos = -1\n",
    "Output: false\n",
    "Explanation: There is no cycle in the linked list.\n",
    " \n",
    "\n",
    "Constraints:\n",
    "\n",
    "The number of the nodes in the list is in the range [0, 104].\n",
    "-105 <= Node.val <= 105\n",
    "pos is -1 or a valid index in the linked-list.\n",
    "\n",
    "\"\"\"\n",
    "\n",
    "# Definition for singly-linked list.\n",
    "\n",
    "class ListNode:\n",
    "    def __init__(self, x):\n",
    "        self.val = x\n",
    "        self.next = None\n",
    "\n",
    "def hasCycle(head):\n",
    "    if head is None or head.next is None:\n",
    "        return False\n",
    "    \n",
    "    slow, fast = head, head.next\n",
    "    \n",
    "    while slow is not fast:\n",
    "        if fast is None or fast.next is None:\n",
    "            return False\n",
    "        else:\n",
    "            slow = slow.next\n",
    "            fast = fast.next.next\n",
    "            \n",
    "    return True\n",
    "        \n",
    "head = ListNode(3)\n",
    "head.next = ListNode(2)\n",
    "head.next.next = ListNode(0)\n",
    "head.next.next.next = ListNode(-4)\n",
    "head.next.next.next.next = head.next\n",
    "\n",
    "print(hasCycle(head))\n"
   ]
  },
  {
   "cell_type": "code",
   "execution_count": 43,
   "id": "527d5bd6",
   "metadata": {},
   "outputs": [
    {
     "data": {
      "text/plain": [
       "1353"
      ]
     },
     "execution_count": 43,
     "metadata": {},
     "output_type": "execute_result"
    }
   ],
   "source": [
    "def titleToNumber(s):\n",
    "    return sum([(ord(T)-ord(\"A\")+1)*26**i for i,T in enumerate(s[::-1])])\n",
    "titleToNumber(\"AZA\")"
   ]
  },
  {
   "cell_type": "code",
   "execution_count": 49,
   "id": "652dac9a",
   "metadata": {},
   "outputs": [
    {
     "data": {
      "text/plain": [
       "1353"
      ]
     },
     "execution_count": 49,
     "metadata": {},
     "output_type": "execute_result"
    }
   ],
   "source": [
    "1+(26*(26+25))+26"
   ]
  },
  {
   "cell_type": "code",
   "execution_count": 62,
   "id": "9fda1dd2",
   "metadata": {},
   "outputs": [
    {
     "data": {
      "text/plain": [
       "'1'"
      ]
     },
     "execution_count": 62,
     "metadata": {},
     "output_type": "execute_result"
    }
   ],
   "source": [
    "bin(5)[4:]\n"
   ]
  },
  {
   "cell_type": "code",
   "execution_count": 65,
   "id": "5954a0c7",
   "metadata": {},
   "outputs": [
    {
     "name": "stdout",
     "output_type": "stream",
     "text": [
      "3\n",
      "2\n",
      "1\n"
     ]
    }
   ],
   "source": [
    "arr = [1,2,3]\n",
    "for i in reversed(arr):\n",
    "    print(i)"
   ]
  },
  {
   "cell_type": "code",
   "execution_count": 1,
   "id": "fdcbb8bb",
   "metadata": {},
   "outputs": [
    {
     "name": "stdout",
     "output_type": "stream",
     "text": [
      "421\n"
     ]
    }
   ],
   "source": [
    "s = '  421'\n",
    "print(int(s))"
   ]
  },
  {
   "cell_type": "code",
   "execution_count": 9,
   "id": "83051332",
   "metadata": {},
   "outputs": [
    {
     "name": "stdout",
     "output_type": "stream",
     "text": [
      "3 4\n",
      "3.5\n"
     ]
    }
   ],
   "source": [
    "class Solution:\n",
    "    def findMedianSortedArrays(self, nums1, nums2) :\n",
    "        new_array = []\n",
    "        i, j = 0, 0\n",
    "        while i < len(nums1) and j < len(nums2):\n",
    "            if nums1[i] < nums2[j]:\n",
    "                new_array.append(nums1[i])\n",
    "                i+=1\n",
    "            else:\n",
    "                new_array.append(nums2[j])\n",
    "                j+=1\n",
    "        if i<len(nums1):\n",
    "            while i<len(nums1):\n",
    "                new_array.append(nums1[i])\n",
    "                i+=1\n",
    "        if j<len(nums2):\n",
    "            while j < len(nums2):\n",
    "                new_array.append(nums2[j])\n",
    "                j+=1\n",
    "        \n",
    "        mid = len(new_array)//2\n",
    "        if len(new_array) % 2 ==0:\n",
    "            print(new_array[mid-1], new_array[mid])\n",
    "            return (new_array[mid] + new_array[mid-1])/2\n",
    "        else:\n",
    "            return new_array[mid]\n",
    "        \n",
    "obj = Solution()\n",
    "nums1 = [1,2,3,4,5,6]\n",
    "nums2 = [2,3,4,5]\n",
    "result = obj.findMedianSortedArrays(nums1, nums2)\n",
    "print(result)"
   ]
  },
  {
   "cell_type": "code",
   "execution_count": 11,
   "id": "ed898c12",
   "metadata": {},
   "outputs": [
    {
     "name": "stdout",
     "output_type": "stream",
     "text": [
      "9\n"
     ]
    }
   ],
   "source": [
    "def trap(height):\n",
    "    n = len(height)\n",
    "    trapped_water = 0\n",
    "    stack = []\n",
    "\n",
    "    for i in range(n):\n",
    "        while stack and height[i] > height[stack[-1]]:\n",
    "            top = stack.pop()\n",
    "            if not stack:\n",
    "                break\n",
    "            distance = i - stack[-1] - 1\n",
    "            bounded_height = min(height[i], height[stack[-1]]) - height[top]\n",
    "            trapped_water += distance * bounded_height\n",
    "\n",
    "        stack.append(i)\n",
    "\n",
    "    return trapped_water\n",
    "\n",
    "# Example usage:\n",
    "height_map = [4,2,0,3,2,5]\n",
    "print(trap(height_map))  # Output: 6\n"
   ]
  },
  {
   "cell_type": "code",
   "execution_count": 13,
   "id": "7f0613bc",
   "metadata": {},
   "outputs": [
    {
     "name": "stdout",
     "output_type": "stream",
     "text": [
      "<list_reverseiterator object at 0x105aea110>\n"
     ]
    }
   ],
   "source": [
    "arr = [1,2,3]\n",
    "narr = reversed(arr)\n",
    "print(reversed(arr))"
   ]
  },
  {
   "cell_type": "code",
   "execution_count": 23,
   "id": "170209e4",
   "metadata": {},
   "outputs": [
    {
     "name": "stdout",
     "output_type": "stream",
     "text": [
      "[[1, 5], [6, 9]]\n",
      "[[5, 7]]\n"
     ]
    }
   ],
   "source": [
    "class Solution:\n",
    "    def merge(self, intervals):\n",
    "        if len(intervals)==1:\n",
    "            if len(intervals[0])==0:\n",
    "                return None\n",
    "        intervals = sorted(intervals)\n",
    "        index = 0\n",
    "        while (index < len(intervals)-1):\n",
    "            if intervals[index+1][0] >= intervals[index][0] and intervals[index+1][0] <= intervals[index][1]:\n",
    "                intervals[index][1] = max(intervals[index+1][1], intervals[index][1])\n",
    "                intervals.pop(index+1)\n",
    "            else:\n",
    "                index += 1\n",
    "        return intervals    \n",
    "\n",
    "    def insert(self, intervals, newInterval):\n",
    "        if len(intervals) == 0 and len(newInterval) < 2:\n",
    "            return intervals\n",
    "        if len(intervals) == 0 and len(newInterval) == 2:\n",
    "            intervals.append(newInterval)\n",
    "            return intervals\n",
    "        for i in range(len(intervals)):\n",
    "            if newInterval[0] >= intervals[i][0] and newInterval[0] <= intervals[i][1]:\n",
    "                intervals[i][0] = min(intervals[i][0], newInterval[0])\n",
    "                intervals[i][1] = max(intervals[i][1], newInterval[1])\n",
    "                newInterval.pop()\n",
    "                newInterval.pop()\n",
    "                break\n",
    "        if len(newInterval) != 0:\n",
    "            intervals.append(newInterval)\n",
    "\n",
    "        return self.merge(intervals)\n",
    "        \n",
    "obj = Solution()\n",
    "result = obj.insert([[1,3],[6,9]], [2,5])\n",
    "print(result)\n",
    "result = obj.insert([], [5,7])\n",
    "print(result)"
   ]
  },
  {
   "cell_type": "code",
   "execution_count": 24,
   "id": "90fa4158",
   "metadata": {},
   "outputs": [
    {
     "ename": "NameError",
     "evalue": "name 'List' is not defined",
     "output_type": "error",
     "traceback": [
      "\u001b[0;31m---------------------------------------------------------------------------\u001b[0m",
      "\u001b[0;31mNameError\u001b[0m                                 Traceback (most recent call last)",
      "Cell \u001b[0;32mIn[24], line 1\u001b[0m\n\u001b[0;32m----> 1\u001b[0m \u001b[38;5;28;01mclass\u001b[39;00m \u001b[38;5;21;01mSolution\u001b[39;00m:\n\u001b[1;32m      2\u001b[0m     \u001b[38;5;28;01mdef\u001b[39;00m \u001b[38;5;21mlongestConsecutive\u001b[39m(\u001b[38;5;28mself\u001b[39m, nums: List[\u001b[38;5;28mint\u001b[39m]) \u001b[38;5;241m-\u001b[39m\u001b[38;5;241m>\u001b[39m \u001b[38;5;28mint\u001b[39m:\n\u001b[1;32m      3\u001b[0m         \u001b[38;5;28;01mpass\u001b[39;00m\n",
      "Cell \u001b[0;32mIn[24], line 2\u001b[0m, in \u001b[0;36mSolution\u001b[0;34m()\u001b[0m\n\u001b[1;32m      1\u001b[0m \u001b[38;5;28;01mclass\u001b[39;00m \u001b[38;5;21;01mSolution\u001b[39;00m:\n\u001b[0;32m----> 2\u001b[0m     \u001b[38;5;28;01mdef\u001b[39;00m \u001b[38;5;21mlongestConsecutive\u001b[39m(\u001b[38;5;28mself\u001b[39m, nums: List[\u001b[38;5;28mint\u001b[39m]) \u001b[38;5;241m-\u001b[39m\u001b[38;5;241m>\u001b[39m \u001b[38;5;28mint\u001b[39m:\n\u001b[1;32m      3\u001b[0m         \u001b[38;5;28;01mpass\u001b[39;00m\n",
      "\u001b[0;31mNameError\u001b[0m: name 'List' is not defined"
     ]
    }
   ],
   "source": [
    "class Solution:\n",
    "    def longestConsecutive(self, nums: List[int]) -> int:\n",
    "        hash_set = set()\n",
    "        \n",
    "\n",
    "    \n",
    "obj = Solution()\n",
    "nums = [0,3,7,2,5,8,4,6,0,1]\n",
    "result = obj.longestConsecutive(nums)\n",
    "print(result)"
   ]
  },
  {
   "cell_type": "code",
   "execution_count": 28,
   "id": "a3fe718d",
   "metadata": {},
   "outputs": [
    {
     "name": "stdout",
     "output_type": "stream",
     "text": [
      "10\n",
      "11\n",
      "5\n"
     ]
    }
   ],
   "source": [
    "s = set()\n",
    "s.add(10)\n",
    "s.add(5)\n",
    "s.add(11)\n",
    "for i in s:\n",
    "    print(i)"
   ]
  },
  {
   "cell_type": "code",
   "execution_count": 36,
   "id": "7b58e628",
   "metadata": {},
   "outputs": [
    {
     "name": "stdout",
     "output_type": "stream",
     "text": [
      "True\n"
     ]
    }
   ],
   "source": [
    "class TrieNode:\n",
    "    def __init__(self):\n",
    "        self.children, self.end = {}, False\n",
    "\n",
    "class Trie:\n",
    "    def __init__(self):\n",
    "        self.root = TrieNode()\n",
    "        self.memo = {}\n",
    "    \n",
    "    # Time O(K) - where K is the length of the word\n",
    "    def insert(self, word):\n",
    "        curr = self.root\n",
    "        for char in word:\n",
    "            if char not in curr.children:\n",
    "                curr.children[char] = TrieNode()\n",
    "            curr = curr.children[char]\n",
    "        curr.end = True\n",
    "    \n",
    "    # Time O(K) - where K is the length of the word\n",
    "    def find(self, word):\n",
    "        curr = self.root\n",
    "        for i, char in enumerate(word):\n",
    "            if char not in curr.children:\n",
    "                return False\n",
    "            if curr.children[char].end:\n",
    "                remaining_word = word[i+1:]\n",
    "                if remaining_word not in self.memo:\n",
    "                    self.memo[remaining_word] = self.find(remaining_word)\n",
    "\n",
    "                if self.memo[remaining_word]:\n",
    "                    return True\n",
    "\n",
    "            curr = curr.children[char]\n",
    "        return curr.end\n",
    "\n",
    "class Solution:\n",
    "    def wordBreak(self, s, wordDict):\n",
    "        trie = Trie()\n",
    "        for word in wordDict:\n",
    "            trie.insert(word)\n",
    "        \n",
    "        return trie.find(s)\n",
    "    \n",
    "obj = Solution()\n",
    "result = obj.wordBreak(\"applepenapple\", [\"apple\",\"applepen\"])\n",
    "print(result)"
   ]
  },
  {
   "cell_type": "code",
   "execution_count": 43,
   "id": "38d05805",
   "metadata": {},
   "outputs": [
    {
     "name": "stdout",
     "output_type": "stream",
     "text": [
      "appleapplepen\n",
      "None\n"
     ]
    }
   ],
   "source": [
    "class TrieNode:\n",
    "    def __init__(self):\n",
    "        self.children, self.end = {}, False\n",
    "\n",
    "class Trie:\n",
    "    def __init__(self):\n",
    "        self.root = TrieNode()\n",
    "        self.memo = {}\n",
    "        self.result = []\n",
    "    \n",
    "    # Time O(K) - where K is the length of the word\n",
    "    def insert(self, word):\n",
    "        curr = self.root\n",
    "        for char in word:\n",
    "            if char not in curr.children:\n",
    "                curr.children[char] = TrieNode()\n",
    "            curr = curr.children[char]\n",
    "        curr.end = True\n",
    "    \n",
    "    # Time O(K) - where K is the length of the word\n",
    "    def find(self, word, s):\n",
    "        curr = self.root\n",
    "        for i, char in enumerate(word):\n",
    "            if char not in curr.children: return False\n",
    "            \n",
    "            if curr.children[char].end:\n",
    "                s = s + word[:i+1]\n",
    "                remaining_word = word[i+1:]\n",
    "                if remaining_word not in self.memo:\n",
    "                    self.memo[remaining_word] = self.find(remaining_word, s)\n",
    "\n",
    "                if self.memo[remaining_word]:\n",
    "                    print(s)\n",
    "                    self.result = self.result.append(s)\n",
    "                    return True\n",
    "\n",
    "            curr = curr.children[char]\n",
    "\n",
    "        return curr.end\n",
    "\n",
    "class Solution:\n",
    "    def wordBreak(self, s, wordDict):\n",
    "        trie = Trie()\n",
    "        for word in wordDict:\n",
    "            trie.insert(word)\n",
    "        \n",
    "        trie.find(s, '')\n",
    "        return trie.result\n",
    "    \n",
    "obj = Solution()\n",
    "result = obj.wordBreak(\"applepenapple\", [\"apple\",\"applepen\"])\n",
    "print(result)"
   ]
  },
  {
   "cell_type": "code",
   "execution_count": null,
   "id": "4cc423b9",
   "metadata": {},
   "outputs": [],
   "source": []
  },
  {
   "cell_type": "code",
   "execution_count": null,
   "id": "0fec8d24",
   "metadata": {},
   "outputs": [],
   "source": []
  }
 ],
 "metadata": {
  "kernelspec": {
   "display_name": "Python 3 (ipykernel)",
   "language": "python",
   "name": "python3"
  },
  "language_info": {
   "codemirror_mode": {
    "name": "ipython",
    "version": 3
   },
   "file_extension": ".py",
   "mimetype": "text/x-python",
   "name": "python",
   "nbconvert_exporter": "python",
   "pygments_lexer": "ipython3",
   "version": "3.11.3"
  }
 },
 "nbformat": 4,
 "nbformat_minor": 5
}
